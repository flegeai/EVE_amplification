{
 "cells": [
  {
   "cell_type": "code",
   "execution_count": 1,
   "metadata": {
    "tags": []
   },
   "outputs": [],
   "source": [
    "import sys\n",
    "import pandas as pd\n",
    "import re\n",
    "import scipy.stats as stats \n",
    "import seaborn as sns\n",
    "import matplotlib as mpl\n",
    "import matplotlib.font_manager as font_manager\n",
    "import matplotlib.pyplot as plt"
   ]
  },
  {
   "cell_type": "markdown",
   "metadata": {},
   "source": [
    "## Variables setting"
   ]
  },
  {
   "cell_type": "code",
   "execution_count": 2,
   "metadata": {},
   "outputs": [],
   "source": [
    "datadir=\"../data/\"\n",
    "flagstatdir=datadir+\"flagstat/\"\n",
    "countsdir=datadir+\"counts/\"\n",
    "font_dir = \"../fonts/\"\n",
    "imagesdir= \"../images/\"\n",
    "U16_samples=('U16_2','U16_3','U16_4')\n",
    "GFP_samples=('GFP_2','GFP_3','GFP_4')\n",
    "St_samples=('St1', 'St3')"
   ]
  },
  {
   "cell_type": "markdown",
   "metadata": {},
   "source": [
    "# Calculation of the FPKM from the FeatureCounts outputs\n",
    "## 1. On the loci"
   ]
  },
  {
   "cell_type": "code",
   "execution_count": 3,
   "metadata": {},
   "outputs": [],
   "source": [
    "nb_fragments={}\n",
    "loci_fpkm_df=pd.DataFrame()\n",
    "for s in U16_samples+GFP_samples+St_samples:\n",
    "    flagstat=open(flagstatdir+s+\".flagstat\", 'r') \n",
    "    for l in flagstat:\n",
    "        m=re.match(\"^(\\d+) \\+ 0 properly paired\",l)\n",
    "        if (m != None):\n",
    "            nb_fragments[s]=int(m.group(1))\n",
    "            ltmp=pd.read_csv(countsdir+s+\".Hd2_provirus_loci_IVSPER2.counts.txt\", comment=\"#\", sep=\"\\t\", index_col=\"Geneid\") \n",
    "            ltmp['locus ' + s]=1000000*(ltmp[s+'.bam']/nb_fragments[s])/(ltmp['Length']/1000)\n",
    "            loci_fpkm_df=pd.concat([loci_fpkm_df, ltmp.loc[:,'locus '+s]], axis=1)\n",
    "# Add the Chromosome name to the files\n",
    "loci_fpkm_df=loci_fpkm_df.merge(ltmp.loc[:,'Chr'], left_index=True, right_index=True)"
   ]
  },
  {
   "cell_type": "markdown",
   "metadata": {},
   "source": [
    "### Add the type of the loci ('evREP' or 'proviral segment') to the table "
   ]
  },
  {
   "cell_type": "code",
   "execution_count": 4,
   "metadata": {},
   "outputs": [],
   "source": [
    "provir=[]\n",
    "evrep=[]\n",
    "loci_fpkm_df.loc[:,'type']=''\n",
    "for locus in loci_fpkm_df.index:\n",
    "    if((re.match(\"^Hd\", locus) != None) | (re.match(\"^similar to\", locus) != None)):\n",
    "        provir.append(locus)\n",
    "        loci_fpkm_df.loc[locus,'type']='proviral segment'\n",
    "    else:\n",
    "        if(re.match(\"^IVSP\", locus)!= None):\n",
    "            evrep.append(locus)\n",
    "            loci_fpkm_df.loc[locus,'type']='evREP'\n",
    "        else:\n",
    "            print(\"Error \" + locus)\n",
    "loci_fpkm_provir_df= loci_fpkm_df.loc[loci_fpkm_df['type']=='proviral segment',:]\n",
    "loci_fpkm_evrep_df=loci_fpkm_df.loc[loci_fpkm_df['type']=='evREP',:]"
   ]
  },
  {
   "cell_type": "code",
   "execution_count": 5,
   "metadata": {},
   "outputs": [],
   "source": [
    "## 2. On the random loci"
   ]
  },
  {
   "cell_type": "code",
   "execution_count": 6,
   "metadata": {
    "tags": []
   },
   "outputs": [],
   "source": [
    "random_provir_fpkm_df=pd.DataFrame()\n",
    "random_evrep_fpkm_df=pd.DataFrame()\n",
    "for s in U16_samples+GFP_samples+St_samples:\n",
    "    retmp=pd.read_csv(countsdir+s+\".evrep.randoms.counts.txt\", comment=\"#\", sep=\"\\t\", index_col=\"Geneid\") \n",
    "    retmp['random ' + s]=1000000*(retmp[\"../\"+s+'.bam']/nb_fragments[s])/(retmp['Length']/1000)\n",
    "    random_evrep_fpkm_df=pd.concat([random_evrep_fpkm_df, retmp.loc[:,'random '+s]], axis=1)\n",
    "    rptmp=pd.read_csv(countsdir+s+\".provir.randoms.counts.txt\", comment=\"#\", sep=\"\\t\", index_col=\"Geneid\") \n",
    "    rptmp['random ' + s]=1000000*(rptmp[\"../\"+s+'.bam']/nb_fragments[s])/(rptmp['Length']/1000)\n",
    "    random_provir_fpkm_df=pd.concat([random_provir_fpkm_df, rptmp.loc[:,'random '+s]], axis=1)\n",
    "# Add the Chromosome name to the files\n",
    "random_evrep_fpkm_df=random_evrep_fpkm_df.merge(retmp.loc[:,('Chr', 'Start', 'End')], left_index=True, right_index=True)\n",
    "random_provir_fpkm_df=random_provir_fpkm_df.merge(rptmp.loc[:,('Chr', 'Start', 'End')], left_index=True, right_index=True)"
   ]
  },
  {
   "cell_type": "markdown",
   "metadata": {
    "tags": []
   },
   "source": [
    "# statistical tests St3 vs St1"
   ]
  },
  {
   "cell_type": "code",
   "execution_count": 7,
   "metadata": {},
   "outputs": [],
   "source": [
    "st3st1_evrep_melted=loci_fpkm_evrep_df.reset_index().melt(id_vars=['index'], value_vars=( 'locus St1' ,'locus St3'))\n",
    "st3st1_evrep_melted['sample']=st3st1_evrep_melted['variable'].str.replace(\"locus \",'').str.split(\"_\").str[0]\n",
    "st3st1_provir_melted=loci_fpkm_provir_df.reset_index().melt(id_vars=['index'], value_vars=( 'locus St1' ,'locus St3'))\n",
    "st3st1_provir_melted['sample']=st3st1_provir_melted['variable'].str.replace(\"locus \",'').str.split(\"_\").str[0]\n",
    "st3st1_provir_random_melted=random_provir_fpkm_df.reset_index().melt(id_vars=['index'], value_vars=('random St1' ,'random St3' ))\n",
    "st3st1_provir_random_melted['sample']=st3st1_provir_random_melted['variable'].str.replace(\"random \",'').str.split(\"_\").str[0]\n",
    "st3st1_evrep_random_melted=random_evrep_fpkm_df.reset_index().melt(id_vars=['index'], value_vars=('random St1' ,'random St3' ))\n",
    "st3st1_evrep_random_melted['sample']=st3st1_evrep_random_melted['variable'].str.replace(\"random \",'').str.split(\"_\").str[0]"
   ]
  },
  {
   "cell_type": "markdown",
   "metadata": {},
   "source": [
    "### St1 proviral segments vs random loci"
   ]
  },
  {
   "cell_type": "code",
   "execution_count": 8,
   "metadata": {},
   "outputs": [
    {
     "data": {
      "text/plain": [
       "TtestResult(statistic=-0.8270331715897284, pvalue=0.40989819222458734, df=117.25204218709717)"
      ]
     },
     "execution_count": 8,
     "metadata": {},
     "output_type": "execute_result"
    }
   ],
   "source": [
    "all_provir_melted=pd.concat([st3st1_provir_melted, st3st1_provir_random_melted])\n",
    "stats.ttest_ind(all_provir_melted.loc[all_provir_melted['variable']=='locus St1', 'value'],all_provir_melted.loc[all_provir_melted['variable']=='random St1', 'value'], equal_var=False)"
   ]
  },
  {
   "cell_type": "markdown",
   "metadata": {},
   "source": [
    "### St1 evREP vs random loci"
   ]
  },
  {
   "cell_type": "code",
   "execution_count": 9,
   "metadata": {},
   "outputs": [
    {
     "data": {
      "text/plain": [
       "TtestResult(statistic=-0.2420543847796417, pvalue=0.8118530263373945, df=15.793533043159067)"
      ]
     },
     "execution_count": 9,
     "metadata": {},
     "output_type": "execute_result"
    }
   ],
   "source": [
    "all_evrep_melted=pd.concat([st3st1_evrep_melted, st3st1_evrep_random_melted])\n",
    "stats.ttest_ind(all_evrep_melted.loc[all_evrep_melted['variable']=='locus St1', 'value'],all_evrep_melted.loc[all_evrep_melted['variable']=='random St1', 'value'], equal_var=False)"
   ]
  },
  {
   "cell_type": "markdown",
   "metadata": {},
   "source": [
    "### St3 proviral segments vs random loci"
   ]
  },
  {
   "cell_type": "code",
   "execution_count": 10,
   "metadata": {},
   "outputs": [
    {
     "data": {
      "text/plain": [
       "TtestResult(statistic=7.871206470681912, pvalue=1.414463804990572e-10, df=55.00002465652294)"
      ]
     },
     "execution_count": 10,
     "metadata": {},
     "output_type": "execute_result"
    }
   ],
   "source": [
    "stats.ttest_ind(all_provir_melted.loc[all_provir_melted['variable']=='locus St3', 'value'],all_provir_melted.loc[all_provir_melted['variable']=='random St3', 'value'], equal_var=False)"
   ]
  },
  {
   "cell_type": "markdown",
   "metadata": {},
   "source": [
    "### St3 evREP vs random loci"
   ]
  },
  {
   "cell_type": "code",
   "execution_count": 11,
   "metadata": {
    "tags": []
   },
   "outputs": [
    {
     "data": {
      "text/plain": [
       "TtestResult(statistic=3.1162839902973585, pvalue=0.010942941542914404, df=10.000027598316569)"
      ]
     },
     "execution_count": 11,
     "metadata": {},
     "output_type": "execute_result"
    }
   ],
   "source": [
    "stats.ttest_ind(all_evrep_melted.loc[all_evrep_melted['variable']=='locus St3', 'value'],all_evrep_melted.loc[all_evrep_melted['variable']=='random St3', 'value'], equal_var=False)"
   ]
  },
  {
   "cell_type": "markdown",
   "metadata": {},
   "source": [
    "# Figures"
   ]
  },
  {
   "cell_type": "code",
   "execution_count": 12,
   "metadata": {},
   "outputs": [],
   "source": [
    "# Add every font at the specified location\n",
    "for font in font_manager.findSystemFonts(font_dir):\n",
    "    font_manager.fontManager.addfont(font)\n",
    "\n",
    "# Set font family globally\n",
    "mpl.rcParams['font.family'] = 'Arial'"
   ]
  },
  {
   "cell_type": "markdown",
   "metadata": {
    "tags": []
   },
   "source": [
    "## Figure 2 (boxplots St1/St3)"
   ]
  },
  {
   "cell_type": "code",
   "execution_count": 13,
   "metadata": {},
   "outputs": [],
   "source": [
    "colors_sample = [\"#f20e1c\", \"#fcaf22\",\"#31ee13\",\"#fcaf22\"]"
   ]
  },
  {
   "cell_type": "code",
   "execution_count": 14,
   "metadata": {},
   "outputs": [
    {
     "data": {
      "image/png": "[encoded data removed]",
      "text/plain": [
       "<Figure size 1237.36x600 with 2 Axes>"
      ]
     },
     "metadata": {},
     "output_type": "display_data"
    }
   ],
   "source": [
    "st3st1_provir_random_melted['type']='proviral random'\n",
    "st3st1_provir_random_melted['target']='proviral loci'\n",
    "st3st1_evrep_random_melted['type']='evREP random'\n",
    "st3st1_evrep_random_melted['target']='evREP'\n",
    "st3st1_provir_melted['type']='proviral segment'\n",
    "st3st1_evrep_melted['type']='evREP'\n",
    "st3st1_provir_melted['target']='proviral loci'\n",
    "st3st1_evrep_melted['target']='evREP'\n",
    "\n",
    "myPalette= sns.set_palette(sns.color_palette(colors_sample))\n",
    "all_melted=pd.concat([st3st1_provir_melted, st3st1_provir_random_melted, st3st1_evrep_melted,st3st1_evrep_random_melted])\n",
    "#g=sns.catplot(\n",
    "#    data=all_melted, x=\"type\", y=\"value\", col=\"sample\", hue=\"type\",  kind='violin', gap=.01, inner=\"quart\", split=True, height=6, aspect=1.0\n",
    "#)\n",
    "\n",
    "g=sns.catplot(\n",
    "    data=all_melted, x=\"type\", y=\"value\", col=\"sample\", hue=\"type\",  kind='boxen',  height=6, aspect=1.0\n",
    ")\n",
    "\n",
    "\n",
    "for i in range(g.axes.size): \n",
    "    subplot=g.axes[0,i]\n",
    "    subplot.set_yscale(\"symlog\")\n",
    "    subplot.set_xticks(subplot.get_xticks())\n",
    "    subplot.set_xticklabels(\n",
    "    subplot.get_xticklabels(), \n",
    "        rotation=45, \n",
    "        horizontalalignment='right'    \n",
    "    )\n",
    "    subplot.set_ylabel('FPKM')\n",
    "    subplot.set_xlabel('')\n",
    "    subplot.set(ylim=(0,10000))\n",
    "\n",
    "g.legend.remove()\n",
    "g.set_titles(\"{col_name}\")\n",
    "plt.tight_layout() \n",
    "plt.savefig(imagesdir+\"figure2.png\")"
   ]
  },
  {
   "cell_type": "markdown",
   "metadata": {},
   "source": [
    "## figure 3a (U16/GFP, proviral segments) "
   ]
  },
  {
   "cell_type": "code",
   "execution_count": 15,
   "metadata": {},
   "outputs": [],
   "source": [
    "color_U16=\"#ff5e4d\"\n",
    "color_GFP=\"#80d0d0\"\n",
    "color_rand=\"#fcaf22\"\n",
    "colors=[color_U16, color_GFP, color_rand, color_rand]\n",
    "allPalette = sns.set_palette(sns.color_palette(colors))"
   ]
  },
  {
   "cell_type": "code",
   "execution_count": 16,
   "metadata": {},
   "outputs": [],
   "source": [
    "provir_melted=loci_fpkm_provir_df.reset_index().melt(id_vars=['index'], value_vars=( 'locus U16_2' ,'locus U16_3' , 'locus U16_4' , 'locus GFP_2' ,'locus GFP_3','locus GFP_4'))\n",
    "provir_melted['sample']=provir_melted['variable'].str.replace(\"locus \",'').str.split(\"_\").str[0]\n",
    "random_provir_melted=random_provir_fpkm_df.reset_index().melt(id_vars=['index'], value_vars=('random U16_2' ,'random U16_3' , 'random U16_4' , 'random GFP_2' ,'random GFP_3','random GFP_4'))\n",
    "random_provir_melted['sample']='random ' + random_provir_melted['variable'].str.replace(\"random \",'').str.split(\"_\").str[0]"
   ]
  },
  {
   "cell_type": "code",
   "execution_count": 17,
   "metadata": {},
   "outputs": [
    {
     "data": {
      "text/html": [
       "<div>\n",
       "<style scoped>\n",
       "    .dataframe tbody tr th:only-of-type {\n",
       "        vertical-align: middle;\n",
       "    }\n",
       "\n",
       "    .dataframe tbody tr th {\n",
       "        vertical-align: top;\n",
       "    }\n",
       "\n",
       "    .dataframe thead th {\n",
       "        text-align: right;\n",
       "    }\n",
       "</style>\n",
       "<table border=\"1\" class=\"dataframe\">\n",
       "  <thead>\n",
       "    <tr style=\"text-align: right;\">\n",
       "      <th></th>\n",
       "      <th>index</th>\n",
       "      <th>variable</th>\n",
       "      <th>value</th>\n",
       "      <th>sample</th>\n",
       "    </tr>\n",
       "  </thead>\n",
       "  <tbody>\n",
       "    <tr>\n",
       "      <th>0</th>\n",
       "      <td>Hd26</td>\n",
       "      <td>locus U16_2</td>\n",
       "      <td>29.865484</td>\n",
       "      <td>U16</td>\n",
       "    </tr>\n",
       "    <tr>\n",
       "      <th>1</th>\n",
       "      <td>Hd38</td>\n",
       "      <td>locus U16_2</td>\n",
       "      <td>33.934862</td>\n",
       "      <td>U16</td>\n",
       "    </tr>\n",
       "    <tr>\n",
       "      <th>2</th>\n",
       "      <td>Hd36</td>\n",
       "      <td>locus U16_2</td>\n",
       "      <td>16.427440</td>\n",
       "      <td>U16</td>\n",
       "    </tr>\n",
       "    <tr>\n",
       "      <th>3</th>\n",
       "      <td>Hd50</td>\n",
       "      <td>locus U16_2</td>\n",
       "      <td>6.146538</td>\n",
       "      <td>U16</td>\n",
       "    </tr>\n",
       "    <tr>\n",
       "      <th>4</th>\n",
       "      <td>Hd49</td>\n",
       "      <td>locus U16_2</td>\n",
       "      <td>18.533200</td>\n",
       "      <td>U16</td>\n",
       "    </tr>\n",
       "    <tr>\n",
       "      <th>...</th>\n",
       "      <td>...</td>\n",
       "      <td>...</td>\n",
       "      <td>...</td>\n",
       "      <td>...</td>\n",
       "    </tr>\n",
       "    <tr>\n",
       "      <th>33595</th>\n",
       "      <td>random5596</td>\n",
       "      <td>random GFP_4</td>\n",
       "      <td>2.140258</td>\n",
       "      <td>random GFP</td>\n",
       "    </tr>\n",
       "    <tr>\n",
       "      <th>33596</th>\n",
       "      <td>random5597</td>\n",
       "      <td>random GFP_4</td>\n",
       "      <td>1.757121</td>\n",
       "      <td>random GFP</td>\n",
       "    </tr>\n",
       "    <tr>\n",
       "      <th>33597</th>\n",
       "      <td>random5598</td>\n",
       "      <td>random GFP_4</td>\n",
       "      <td>1.792275</td>\n",
       "      <td>random GFP</td>\n",
       "    </tr>\n",
       "    <tr>\n",
       "      <th>33598</th>\n",
       "      <td>random5599</td>\n",
       "      <td>random GFP_4</td>\n",
       "      <td>2.064424</td>\n",
       "      <td>random GFP</td>\n",
       "    </tr>\n",
       "    <tr>\n",
       "      <th>33599</th>\n",
       "      <td>random5600</td>\n",
       "      <td>random GFP_4</td>\n",
       "      <td>1.968560</td>\n",
       "      <td>random GFP</td>\n",
       "    </tr>\n",
       "  </tbody>\n",
       "</table>\n",
       "<p>33936 rows × 4 columns</p>\n",
       "</div>"
      ],
      "text/plain": [
       "            index      variable      value      sample\n",
       "0            Hd26   locus U16_2  29.865484         U16\n",
       "1            Hd38   locus U16_2  33.934862         U16\n",
       "2            Hd36   locus U16_2  16.427440         U16\n",
       "3            Hd50   locus U16_2   6.146538         U16\n",
       "4            Hd49   locus U16_2  18.533200         U16\n",
       "...           ...           ...        ...         ...\n",
       "33595  random5596  random GFP_4   2.140258  random GFP\n",
       "33596  random5597  random GFP_4   1.757121  random GFP\n",
       "33597  random5598  random GFP_4   1.792275  random GFP\n",
       "33598  random5599  random GFP_4   2.064424  random GFP\n",
       "33599  random5600  random GFP_4   1.968560  random GFP\n",
       "\n",
       "[33936 rows x 4 columns]"
      ]
     },
     "execution_count": 17,
     "metadata": {},
     "output_type": "execute_result"
    }
   ],
   "source": [
    "pd.concat([provir_melted, random_provir_melted])"
   ]
  },
  {
   "cell_type": "code",
   "execution_count": 18,
   "metadata": {},
   "outputs": [
    {
     "data": {
      "text/plain": [
       "array(['U16', 'GFP', 'random U16', 'random GFP'], dtype=object)"
      ]
     },
     "execution_count": 18,
     "metadata": {},
     "output_type": "execute_result"
    }
   ],
   "source": [
    "pd.concat([provir_melted, random_provir_melted])['sample'].unique()"
   ]
  },
  {
   "cell_type": "code",
   "execution_count": 19,
   "metadata": {
    "tags": []
   },
   "outputs": [
    {
     "data": {
      "image/png": "[encoded data removed]",
      "text/plain": [
       "<Figure size 800x800 with 1 Axes>"
      ]
     },
     "metadata": {},
     "output_type": "display_data"
    }
   ],
   "source": [
    "g=sns.catplot(\n",
    "    data=pd.concat([provir_melted, random_provir_melted]), x=\"variable\", y=\"value\", kind='bar', palette=allPalette,\n",
    "    order=('locus GFP_2','random GFP_2','locus GFP_3','random GFP_3','locus GFP_4','random GFP_4','locus U16_2','random U16_2','locus U16_3','random U16_3','locus U16_4','random U16_4'),\n",
    "    height=8, aspect=1.0,\n",
    "    edgecolor='black',\n",
    "    hue='sample',\n",
    "    err_kws={'linewidth': 1.5},\n",
    "    capsize=0.2,\n",
    "    legend=False\n",
    ")\n",
    "\n",
    "for i in range(g.axes.size): \n",
    "    subplot=g.axes[0,i]\n",
    "    subplot.set_yscale(\"symlog\")\n",
    "    subplot.set_xticks(subplot.get_xticks())\n",
    "    subplot.set_xticklabels(\n",
    "    subplot.get_xticklabels(), \n",
    "        rotation=45, \n",
    "        horizontalalignment='right'    \n",
    "    )\n",
    "    subplot.set_ylabel('FPKM')\n",
    "    subplot.set_xlabel('')\n",
    "g.set_titles(\"{col_name}\")\n",
    "plt.tight_layout() \n",
    "plt.savefig(imagesdir+\"figure3a.png\")"
   ]
  },
  {
   "cell_type": "markdown",
   "metadata": {},
   "source": [
    "### statistical test U16 vs GFP"
   ]
  },
  {
   "cell_type": "code",
   "execution_count": 20,
   "metadata": {},
   "outputs": [
    {
     "data": {
      "text/plain": [
       "TtestResult(statistic=-12.420737106665213, pvalue=1.6322158648860663e-25, df=167.16509554151446)"
      ]
     },
     "execution_count": 20,
     "metadata": {},
     "output_type": "execute_result"
    }
   ],
   "source": [
    "stats.ttest_ind(provir_melted.loc[provir_melted['sample']=='U16', 'value'],provir_melted.loc[provir_melted['sample']=='GFP', 'value'], equal_var=False)"
   ]
  },
  {
   "cell_type": "markdown",
   "metadata": {},
   "source": [
    "### statistical test GFP vs GFP random"
   ]
  },
  {
   "cell_type": "code",
   "execution_count": 21,
   "metadata": {},
   "outputs": [
    {
     "data": {
      "text/plain": [
       "TtestResult(statistic=12.59270869680673, pvalue=5.417355675841799e-26, df=167.000055636639)"
      ]
     },
     "execution_count": 21,
     "metadata": {},
     "output_type": "execute_result"
    }
   ],
   "source": [
    "stats.ttest_ind(provir_melted.loc[provir_melted['sample']=='GFP', 'value'],random_provir_melted.loc[random_provir_melted['sample']=='random GFP', 'value'], equal_var=False)"
   ]
  },
  {
   "cell_type": "markdown",
   "metadata": {},
   "source": [
    "### statistical test U16 vs U16 random"
   ]
  },
  {
   "cell_type": "code",
   "execution_count": 22,
   "metadata": {},
   "outputs": [
    {
     "data": {
      "text/plain": [
       "TtestResult(statistic=6.637867304942053, pvalue=4.250774639779173e-10, df=167.1898690050097)"
      ]
     },
     "execution_count": 22,
     "metadata": {},
     "output_type": "execute_result"
    }
   ],
   "source": [
    "stats.ttest_ind(provir_melted.loc[provir_melted['sample']=='U16', 'value'],random_provir_melted.loc[random_provir_melted['sample']=='random U16', 'value'], equal_var=False)"
   ]
  },
  {
   "cell_type": "markdown",
   "metadata": {
    "tags": []
   },
   "source": [
    "## figure 3b (U16/GFP, evREP)"
   ]
  },
  {
   "cell_type": "code",
   "execution_count": 23,
   "metadata": {},
   "outputs": [],
   "source": [
    "evrep_melted=loci_fpkm_evrep_df.reset_index().melt(id_vars=['index'], value_vars=('locus U16_2' ,'locus U16_3' , 'locus U16_4' , 'locus GFP_2' ,'locus GFP_3','locus GFP_4'))\n",
    "evrep_melted['sample']=evrep_melted['variable'].str.replace(\"locus \",'').str.split(\"_\").str[0]\n",
    "random_evrep_melted=random_evrep_fpkm_df.reset_index().melt(id_vars=['index'], value_vars=('random U16_2' ,'random U16_3' , 'random U16_4' , 'random GFP_2' ,'random GFP_3','random GFP_4'))\n",
    "random_evrep_melted['sample']='random ' + random_evrep_melted['variable'].str.replace(\"random \",'').str.split(\"_\").str[0]"
   ]
  },
  {
   "cell_type": "code",
   "execution_count": 24,
   "metadata": {},
   "outputs": [
    {
     "data": {
      "text/html": [
       "<div>\n",
       "<style scoped>\n",
       "    .dataframe tbody tr th:only-of-type {\n",
       "        vertical-align: middle;\n",
       "    }\n",
       "\n",
       "    .dataframe tbody tr th {\n",
       "        vertical-align: top;\n",
       "    }\n",
       "\n",
       "    .dataframe thead th {\n",
       "        text-align: right;\n",
       "    }\n",
       "</style>\n",
       "<table border=\"1\" class=\"dataframe\">\n",
       "  <thead>\n",
       "    <tr style=\"text-align: right;\">\n",
       "      <th></th>\n",
       "      <th>index</th>\n",
       "      <th>variable</th>\n",
       "      <th>value</th>\n",
       "      <th>sample</th>\n",
       "    </tr>\n",
       "  </thead>\n",
       "  <tbody>\n",
       "    <tr>\n",
       "      <th>0</th>\n",
       "      <td>IVSP_U37</td>\n",
       "      <td>locus U16_2</td>\n",
       "      <td>7.427280</td>\n",
       "      <td>U16</td>\n",
       "    </tr>\n",
       "    <tr>\n",
       "      <th>1</th>\n",
       "      <td>IVSP_U42*</td>\n",
       "      <td>locus U16_2</td>\n",
       "      <td>4.122450</td>\n",
       "      <td>U16</td>\n",
       "    </tr>\n",
       "    <tr>\n",
       "      <th>2</th>\n",
       "      <td>IVSP_U38*</td>\n",
       "      <td>locus U16_2</td>\n",
       "      <td>4.105013</td>\n",
       "      <td>U16</td>\n",
       "    </tr>\n",
       "    <tr>\n",
       "      <th>3</th>\n",
       "      <td>IVSPER-5</td>\n",
       "      <td>locus U16_2</td>\n",
       "      <td>3.951289</td>\n",
       "      <td>U16</td>\n",
       "    </tr>\n",
       "    <tr>\n",
       "      <th>4</th>\n",
       "      <td>IVSPER-3</td>\n",
       "      <td>locus U16_2</td>\n",
       "      <td>17.937047</td>\n",
       "      <td>U16</td>\n",
       "    </tr>\n",
       "    <tr>\n",
       "      <th>...</th>\n",
       "      <td>...</td>\n",
       "      <td>...</td>\n",
       "      <td>...</td>\n",
       "      <td>...</td>\n",
       "    </tr>\n",
       "    <tr>\n",
       "      <th>6595</th>\n",
       "      <td>random1096</td>\n",
       "      <td>random GFP_4</td>\n",
       "      <td>1.148101</td>\n",
       "      <td>random GFP</td>\n",
       "    </tr>\n",
       "    <tr>\n",
       "      <th>6596</th>\n",
       "      <td>random1097</td>\n",
       "      <td>random GFP_4</td>\n",
       "      <td>2.292108</td>\n",
       "      <td>random GFP</td>\n",
       "    </tr>\n",
       "    <tr>\n",
       "      <th>6597</th>\n",
       "      <td>random1098</td>\n",
       "      <td>random GFP_4</td>\n",
       "      <td>1.951602</td>\n",
       "      <td>random GFP</td>\n",
       "    </tr>\n",
       "    <tr>\n",
       "      <th>6598</th>\n",
       "      <td>random1099</td>\n",
       "      <td>random GFP_4</td>\n",
       "      <td>1.742170</td>\n",
       "      <td>random GFP</td>\n",
       "    </tr>\n",
       "    <tr>\n",
       "      <th>6599</th>\n",
       "      <td>random1100</td>\n",
       "      <td>random GFP_4</td>\n",
       "      <td>1.628866</td>\n",
       "      <td>random GFP</td>\n",
       "    </tr>\n",
       "  </tbody>\n",
       "</table>\n",
       "<p>6666 rows × 4 columns</p>\n",
       "</div>"
      ],
      "text/plain": [
       "           index      variable      value      sample\n",
       "0       IVSP_U37   locus U16_2   7.427280         U16\n",
       "1      IVSP_U42*   locus U16_2   4.122450         U16\n",
       "2      IVSP_U38*   locus U16_2   4.105013         U16\n",
       "3       IVSPER-5   locus U16_2   3.951289         U16\n",
       "4       IVSPER-3   locus U16_2  17.937047         U16\n",
       "...          ...           ...        ...         ...\n",
       "6595  random1096  random GFP_4   1.148101  random GFP\n",
       "6596  random1097  random GFP_4   2.292108  random GFP\n",
       "6597  random1098  random GFP_4   1.951602  random GFP\n",
       "6598  random1099  random GFP_4   1.742170  random GFP\n",
       "6599  random1100  random GFP_4   1.628866  random GFP\n",
       "\n",
       "[6666 rows x 4 columns]"
      ]
     },
     "execution_count": 24,
     "metadata": {},
     "output_type": "execute_result"
    }
   ],
   "source": [
    "all_melted=pd.concat([evrep_melted, random_evrep_melted])\n",
    "all_melted"
   ]
  },
  {
   "cell_type": "code",
   "execution_count": 25,
   "metadata": {
    "tags": []
   },
   "outputs": [
    {
     "data": {
      "image/png": "[encoded data removed]",
      "text/plain": [
       "<Figure size 800x800 with 1 Axes>"
      ]
     },
     "metadata": {},
     "output_type": "display_data"
    }
   ],
   "source": [
    "g=sns.catplot(\n",
    "    data=pd.concat([evrep_melted, random_evrep_melted]), x=\"variable\", y=\"value\", kind='bar',\n",
    "    height=8, aspect=1.0,\n",
    "    order=('locus GFP_2','random GFP_2','locus GFP_3','random GFP_3','locus GFP_4','random GFP_4','locus U16_2','random U16_2','locus U16_3','random U16_3','locus U16_4','random U16_4'),\n",
    "    edgecolor='black',\n",
    "    hue='sample',\n",
    "    err_kws={'linewidth': 1.5},\n",
    "    capsize=0.2,\n",
    "    legend=False\n",
    ")\n",
    "\n",
    "for i in range(g.axes.size): \n",
    "    subplot=g.axes[0,i]\n",
    "    subplot.set_yscale(\"symlog\")\n",
    "    subplot.set_xticks(subplot.get_xticks())\n",
    "    subplot.set_xticklabels(\n",
    "    subplot.get_xticklabels(), \n",
    "        rotation=45, \n",
    "        horizontalalignment='right'    \n",
    "    )\n",
    "    subplot.set_ylabel('FPKM')\n",
    "    subplot.set_xlabel('')\n",
    "\n",
    "g.set_titles(\"{col_name}\")\n",
    "plt.tight_layout() \n",
    "#plt.suptitle(\"St3/St1 loci FPKM\", y=1.1)\n",
    "plt.savefig(imagesdir+\"figure3b.png\")"
   ]
  },
  {
   "cell_type": "markdown",
   "metadata": {
    "tags": []
   },
   "source": [
    "### statistical test U16 vs GFP"
   ]
  },
  {
   "cell_type": "code",
   "execution_count": 26,
   "metadata": {},
   "outputs": [
    {
     "data": {
      "text/plain": [
       "TtestResult(statistic=-4.908368713589503, pvalue=2.4747885561911476e-05, df=32.654584983772104)"
      ]
     },
     "execution_count": 26,
     "metadata": {},
     "output_type": "execute_result"
    }
   ],
   "source": [
    "stats.ttest_ind(evrep_melted.loc[evrep_melted['sample']=='U16', 'value'],evrep_melted.loc[evrep_melted['sample']=='GFP', 'value'], equal_var=False)"
   ]
  },
  {
   "cell_type": "markdown",
   "metadata": {},
   "source": [
    "### statistical test GFP vs GFP random"
   ]
  },
  {
   "cell_type": "code",
   "execution_count": 27,
   "metadata": {},
   "outputs": [
    {
     "data": {
      "text/plain": [
       "TtestResult(statistic=5.3854572222852415, pvalue=6.471257605818763e-06, df=32.001197677733266)"
      ]
     },
     "execution_count": 27,
     "metadata": {},
     "output_type": "execute_result"
    }
   ],
   "source": [
    "stats.ttest_ind(evrep_melted.loc[evrep_melted['sample']=='GFP', 'value'],random_evrep_melted.loc[random_evrep_melted['sample']=='random GFP', 'value'], equal_var=False)"
   ]
  },
  {
   "cell_type": "markdown",
   "metadata": {},
   "source": [
    "### statistical test U16 vs U16 random"
   ]
  },
  {
   "cell_type": "code",
   "execution_count": 28,
   "metadata": {},
   "outputs": [
    {
     "data": {
      "text/plain": [
       "TtestResult(statistic=3.2232509330704717, pvalue=0.002901926689299842, df=32.18109019396961)"
      ]
     },
     "execution_count": 28,
     "metadata": {},
     "output_type": "execute_result"
    }
   ],
   "source": [
    "stats.ttest_ind(evrep_melted.loc[evrep_melted['sample']=='U16', 'value'],random_evrep_melted.loc[random_evrep_melted['sample']=='random U16', 'value'], equal_var=False)"
   ]
  },
  {
   "cell_type": "markdown",
   "metadata": {},
   "source": [
    "## figure 3c (mean FPKM by scaffolds, evREP)"
   ]
  },
  {
   "cell_type": "code",
   "execution_count": 29,
   "metadata": {},
   "outputs": [],
   "source": [
    "evrep_melted=evrep_melted.merge(loci_fpkm_df['Chr'], left_on='index', right_index=True)"
   ]
  },
  {
   "cell_type": "code",
   "execution_count": 30,
   "metadata": {},
   "outputs": [
    {
     "data": {
      "image/png": "[encoded data removed]",
      "text/plain": [
       "<Figure size 2000x800 with 5 Axes>"
      ]
     },
     "metadata": {},
     "output_type": "display_data"
    }
   ],
   "source": [
    "colors_sample=[color_GFP, color_U16]\n",
    "allPalette = sns.set_palette(sns.color_palette(colors_sample))\n",
    "mpl.rcParams['ytick.labelsize'] = 'x-large'\n",
    "fig, axes = plt.subplots(1, 5, figsize=(20, 8), gridspec_kw={'width_ratios': [1, 1, 5, 2,2]})\n",
    "plt.subplots_adjust(wspace=0.2)\n",
    "fig.suptitle('mean FPKM by evREP loci', size='x-large')\n",
    "\n",
    "sns.barplot(ax=axes[0],data=evrep_melted.loc[evrep_melted['Chr']=='HD2_scaffold_2'], x=\"index\", y=\"value\", hue=\"sample\", hue_order=('GFP', 'U16'), edgecolor='black', width=0.8,capsize=0.1,  err_kws={'linewidth': 2.0})\n",
    "sns.barplot(ax=axes[1],data=evrep_melted.loc[evrep_melted['Chr']=='HD2_scaffold_6'], x=\"index\", y=\"value\", hue=\"sample\",hue_order=('GFP', 'U16'), edgecolor='black', width=0.8,capsize=0.1, err_kws={'linewidth': 2.0})\n",
    "sns.barplot(ax=axes[2],data=evrep_melted.loc[evrep_melted['Chr']=='HD2_scaffold_7'], x=\"index\", y=\"value\", hue=\"sample\",hue_order=('GFP', 'U16'), edgecolor='black', width=0.8,capsize=0.1, err_kws={'linewidth': 2.0})\n",
    "sns.barplot(ax=axes[3],data=evrep_melted.loc[evrep_melted['Chr']=='HD2_scaffold_9'], x=\"index\", y=\"value\", hue=\"sample\",hue_order=('GFP', 'U16'), edgecolor='black', width=0.8,capsize=0.1, err_kws={'linewidth': 2.0})\n",
    "sns.barplot(ax=axes[4],data=evrep_melted.loc[evrep_melted['Chr']=='HD2_scaffold_11'], x=\"index\", y=\"value\", hue=\"sample\",hue_order=('GFP', 'U16'), edgecolor='black', width=0.8,capsize=0.1, err_kws={'linewidth': 2.0})\n",
    "chrs={0:2,1:6,2:7,3:9,4:11}\n",
    "for i in range(5):\n",
    "    axes[i].set_title('Scaf-'+str(chrs[i]),  y=-0.1)\n",
    "    axes[i].set_yscale('log')\n",
    "    axes[i].get_legend().remove()\n",
    "    plt.setp(axes[i].get_xticklabels(), horizontalalignment='center')\n",
    "    axes[i].spines['top'].set_visible(False)\n",
    "    axes[i].spines['right'].set_visible(False)\n",
    "    axes[i].spines['bottom'].set_visible(False)\n",
    "    axes[i].spines['left'].set_visible(False)\n",
    "    axes[i].set_xlabel('')\n",
    "    axes[i].set_ylabel('FPKM', fontsize='x-large')\n",
    "    if (i != 0):\n",
    "        axes[i].get_yaxis().set_visible(False)\n",
    "\n",
    "handles, labels = axes[0].get_legend_handles_labels()\n",
    "fig.legend(handles, labels, loc='upper right')\n",
    "\n",
    "for ax in axes.flat:\n",
    "    ax.label_outer()\n",
    "\n",
    "plt.tight_layout() \n",
    "plt.savefig(imagesdir+\"figure3c.png\")"
   ]
  },
  {
   "cell_type": "markdown",
   "metadata": {},
   "source": [
    "## figure 3c (mean FPKM by scaffolds, evREP)"
   ]
  },
  {
   "cell_type": "code",
   "execution_count": 31,
   "metadata": {
    "tags": []
   },
   "outputs": [],
   "source": [
    "provir_melted=provir_melted.merge(loci_fpkm_df['Chr'], left_on='index', right_index=True)\n",
    "provir_melted.loc[provir_melted['index']=='similar to Hd2', 'index']='Hd2l'"
   ]
  },
  {
   "cell_type": "code",
   "execution_count": 32,
   "metadata": {},
   "outputs": [
    {
     "data": {
      "text/html": [
       "<div>\n",
       "<style scoped>\n",
       "    .dataframe tbody tr th:only-of-type {\n",
       "        vertical-align: middle;\n",
       "    }\n",
       "\n",
       "    .dataframe tbody tr th {\n",
       "        vertical-align: top;\n",
       "    }\n",
       "\n",
       "    .dataframe thead th {\n",
       "        text-align: right;\n",
       "    }\n",
       "</style>\n",
       "<table border=\"1\" class=\"dataframe\">\n",
       "  <thead>\n",
       "    <tr style=\"text-align: right;\">\n",
       "      <th></th>\n",
       "      <th>index</th>\n",
       "      <th>variable</th>\n",
       "      <th>value</th>\n",
       "      <th>sample</th>\n",
       "      <th>Chr</th>\n",
       "    </tr>\n",
       "  </thead>\n",
       "  <tbody>\n",
       "    <tr>\n",
       "      <th>0</th>\n",
       "      <td>Hd26</td>\n",
       "      <td>locus U16_2</td>\n",
       "      <td>29.865484</td>\n",
       "      <td>U16</td>\n",
       "      <td>HD2_scaffold_1</td>\n",
       "    </tr>\n",
       "    <tr>\n",
       "      <th>56</th>\n",
       "      <td>Hd26</td>\n",
       "      <td>locus U16_3</td>\n",
       "      <td>2.568894</td>\n",
       "      <td>U16</td>\n",
       "      <td>HD2_scaffold_1</td>\n",
       "    </tr>\n",
       "    <tr>\n",
       "      <th>112</th>\n",
       "      <td>Hd26</td>\n",
       "      <td>locus U16_4</td>\n",
       "      <td>2.884571</td>\n",
       "      <td>U16</td>\n",
       "      <td>HD2_scaffold_1</td>\n",
       "    </tr>\n",
       "    <tr>\n",
       "      <th>168</th>\n",
       "      <td>Hd26</td>\n",
       "      <td>locus GFP_2</td>\n",
       "      <td>960.896299</td>\n",
       "      <td>GFP</td>\n",
       "      <td>HD2_scaffold_1</td>\n",
       "    </tr>\n",
       "    <tr>\n",
       "      <th>224</th>\n",
       "      <td>Hd26</td>\n",
       "      <td>locus GFP_3</td>\n",
       "      <td>772.508449</td>\n",
       "      <td>GFP</td>\n",
       "      <td>HD2_scaffold_1</td>\n",
       "    </tr>\n",
       "    <tr>\n",
       "      <th>...</th>\n",
       "      <td>...</td>\n",
       "      <td>...</td>\n",
       "      <td>...</td>\n",
       "      <td>...</td>\n",
       "      <td>...</td>\n",
       "    </tr>\n",
       "    <tr>\n",
       "      <th>111</th>\n",
       "      <td>Hd35</td>\n",
       "      <td>locus U16_3</td>\n",
       "      <td>3.751278</td>\n",
       "      <td>U16</td>\n",
       "      <td>HD2_scaffold_12</td>\n",
       "    </tr>\n",
       "    <tr>\n",
       "      <th>167</th>\n",
       "      <td>Hd35</td>\n",
       "      <td>locus U16_4</td>\n",
       "      <td>4.964164</td>\n",
       "      <td>U16</td>\n",
       "      <td>HD2_scaffold_12</td>\n",
       "    </tr>\n",
       "    <tr>\n",
       "      <th>223</th>\n",
       "      <td>Hd35</td>\n",
       "      <td>locus GFP_2</td>\n",
       "      <td>1174.573466</td>\n",
       "      <td>GFP</td>\n",
       "      <td>HD2_scaffold_12</td>\n",
       "    </tr>\n",
       "    <tr>\n",
       "      <th>279</th>\n",
       "      <td>Hd35</td>\n",
       "      <td>locus GFP_3</td>\n",
       "      <td>923.296160</td>\n",
       "      <td>GFP</td>\n",
       "      <td>HD2_scaffold_12</td>\n",
       "    </tr>\n",
       "    <tr>\n",
       "      <th>335</th>\n",
       "      <td>Hd35</td>\n",
       "      <td>locus GFP_4</td>\n",
       "      <td>856.815142</td>\n",
       "      <td>GFP</td>\n",
       "      <td>HD2_scaffold_12</td>\n",
       "    </tr>\n",
       "  </tbody>\n",
       "</table>\n",
       "<p>336 rows × 5 columns</p>\n",
       "</div>"
      ],
      "text/plain": [
       "    index     variable        value sample              Chr\n",
       "0    Hd26  locus U16_2    29.865484    U16   HD2_scaffold_1\n",
       "56   Hd26  locus U16_3     2.568894    U16   HD2_scaffold_1\n",
       "112  Hd26  locus U16_4     2.884571    U16   HD2_scaffold_1\n",
       "168  Hd26  locus GFP_2   960.896299    GFP   HD2_scaffold_1\n",
       "224  Hd26  locus GFP_3   772.508449    GFP   HD2_scaffold_1\n",
       "..    ...          ...          ...    ...              ...\n",
       "111  Hd35  locus U16_3     3.751278    U16  HD2_scaffold_12\n",
       "167  Hd35  locus U16_4     4.964164    U16  HD2_scaffold_12\n",
       "223  Hd35  locus GFP_2  1174.573466    GFP  HD2_scaffold_12\n",
       "279  Hd35  locus GFP_3   923.296160    GFP  HD2_scaffold_12\n",
       "335  Hd35  locus GFP_4   856.815142    GFP  HD2_scaffold_12\n",
       "\n",
       "[336 rows x 5 columns]"
      ]
     },
     "execution_count": 32,
     "metadata": {},
     "output_type": "execute_result"
    }
   ],
   "source": [
    "provir_melted"
   ]
  },
  {
   "cell_type": "code",
   "execution_count": 34,
   "metadata": {},
   "outputs": [
    {
     "data": {
      "image/png": "[encoded data removed]",
      "text/plain": [
       "<Figure size 2000x800 with 12 Axes>"
      ]
     },
     "metadata": {},
     "output_type": "display_data"
    }
   ],
   "source": [
    "mpl.rcParams['text.color'] = 'black'\n",
    "mpl.rcParams['axes.labelcolor'] = 'black'\n",
    "mpl.rcParams['xtick.color'] = 'black'\n",
    "mpl.rcParams['ytick.color'] = 'black'\n",
    "mpl.rcParams['xtick.labelsize'] = 'x-large'\n",
    "mpl.rcParams['ytick.labelsize'] = 'x-large'\n",
    "mpl.rcParams['axes.labelsize'] = 'x-large'\n",
    "mpl.rcParams['axes.titlesize'] = 'x-large'\n",
    "fig, axes = plt.subplots(1, 12, figsize=(20, 8), gridspec_kw={'width_ratios': [6, 9, 3, 6,1.5, 6,12,9,1.5, 4.5,22.5, 3]})\n",
    "plt.subplots_adjust(wspace=0.2)\n",
    "fig.suptitle('mean FPKM by proviral loci', size='x-large')\n",
    "\n",
    "sns.barplot(ax=axes[0],data=provir_melted.loc[provir_melted['Chr']=='HD2_scaffold_1'], x=\"index\", y=\"value\", hue=\"sample\", hue_order=('GFP', 'U16'), edgecolor='black', width=0.8, err_kws={'linewidth': 2.0},capsize=0.1)\n",
    "sns.barplot(ax=axes[1],data=provir_melted.loc[provir_melted['Chr']=='HD2_scaffold_2'], x=\"index\", y=\"value\", hue=\"sample\", hue_order=('GFP', 'U16'), edgecolor='black', width=0.8, err_kws={'linewidth': 2.0},capsize=0.1)\n",
    "sns.barplot(ax=axes[2],data=provir_melted.loc[provir_melted['Chr']=='HD2_scaffold_3'], x=\"index\", y=\"value\", hue=\"sample\", hue_order=('GFP', 'U16'), edgecolor='black', width=0.8, err_kws={'linewidth': 2.0},capsize=0.1)\n",
    "sns.barplot(ax=axes[3],data=provir_melted.loc[provir_melted['Chr']=='HD2_scaffold_4'], x=\"index\", y=\"value\", hue=\"sample\", hue_order=('GFP', 'U16'), edgecolor='black', width=0.8,  err_kws={'linewidth': 2.0},capsize=0.1)\n",
    "sns.barplot(ax=axes[4],data=provir_melted.loc[provir_melted['Chr']=='HD2_scaffold_5'], x=\"index\", y=\"value\", hue=\"sample\", hue_order=('GFP', 'U16'), edgecolor='black', width=0.8,  err_kws={'linewidth': 2.0},capsize=0.1)\n",
    "sns.barplot(ax=axes[5],data=provir_melted.loc[provir_melted['Chr']=='HD2_scaffold_6'], x=\"index\", y=\"value\", hue=\"sample\", hue_order=('GFP', 'U16'), edgecolor='black', width=0.8,  err_kws={'linewidth': 2.0},capsize=0.1)\n",
    "sns.barplot(ax=axes[6],data=provir_melted.loc[provir_melted['Chr']=='HD2_scaffold_7'], x=\"index\", y=\"value\", hue=\"sample\", hue_order=('GFP', 'U16'), edgecolor='black', width=0.8,  err_kws={'linewidth': 2.0},capsize=0.1)\n",
    "sns.barplot(ax=axes[7],data=provir_melted.loc[provir_melted['Chr']=='HD2_scaffold_8'], x=\"index\", y=\"value\", hue=\"sample\", hue_order=('GFP', 'U16'), edgecolor='black', width=0.8,  err_kws={'linewidth': 2.0},capsize=0.1)\n",
    "sns.barplot(ax=axes[8],data=provir_melted.loc[provir_melted['Chr']=='HD2_scaffold_9'], x=\"index\", y=\"value\", hue=\"sample\", hue_order=('GFP', 'U16'), edgecolor='black', width=0.8,  err_kws={'linewidth': 2.0},capsize=0.1)\n",
    "sns.barplot(ax=axes[9],data=provir_melted.loc[provir_melted['Chr']=='HD2_scaffold_10'], x=\"index\", y=\"value\", hue=\"sample\", hue_order=('GFP', 'U16'), edgecolor='black', width=0.8,  err_kws={'linewidth': 2.0},capsize=0.1)\n",
    "sns.barplot(ax=axes[10],data=provir_melted.loc[provir_melted['Chr']=='HD2_scaffold_11'], x=\"index\", y=\"value\", hue=\"sample\", hue_order=('GFP', 'U16'), edgecolor='black', width=0.8,  err_kws={'linewidth': 2.0},capsize=0.1)\n",
    "sns.barplot(ax=axes[11],data=provir_melted.loc[provir_melted['Chr']=='HD2_scaffold_12'], x=\"index\", y=\"value\", hue=\"sample\", hue_order=('GFP', 'U16'), edgecolor='black', width=0.8,  err_kws={'linewidth': 2.0},capsize=0.1)\n",
    "for i in range(12):\n",
    "    axes[i].set_title('Scaf-'+str(i+1),  y=-0.05)\n",
    "    axes[i].set_yscale('log')\n",
    "    axes[i].get_legend().remove()\n",
    "    axes[i].set_xticks([])\n",
    "    axes[i].spines['top'].set_visible(False)\n",
    "    axes[i].spines['right'].set_visible(False)\n",
    "    axes[i].spines['bottom'].set_visible(False)\n",
    "    axes[i].spines['left'].set_visible(False)\n",
    "    if (i != 0):\n",
    "        axes[i].get_yaxis().set_visible(False)\n",
    "    axes[i].set_xlabel('')\n",
    "    axes[i].set_ylabel('FPKM', fontsize='x-large')\n",
    "handles, labels = axes[0].get_legend_handles_labels()\n",
    "fig.legend(handles, labels, loc='upper right', fontsize='x-large')\n",
    "#plt.tight_layout() \n",
    "plt.savefig(imagesdir+\"figure3d.png\")"
   ]
  }
 ],
 "metadata": {
  "kernelspec": {
   "display_name": "Python 3 (ipykernel)",
   "language": "python",
   "name": "python3"
  },
  "language_info": {
   "codemirror_mode": {
    "name": "ipython",
    "version": 3
   },
   "file_extension": ".py",
   "mimetype": "text/x-python",
   "name": "python",
   "nbconvert_exporter": "python",
   "pygments_lexer": "ipython3",
   "version": "3.11.5"
  }
 },
 "nbformat": 4,
 "nbformat_minor": 4
}
